{
    "cells": [
        {
            "cell_type": "markdown",
            "metadata": {
                "azdata_cell_guid": "a2782576-c8ad-483e-bd03-289dd656844c"
            },
            "source": [
                "# Set up Azure SQL Database for Infinite Jest\n",
                "\n",
                "This is an SQL Notebook, which allows you to separate text and code blocks and save code results. Azure Data Studio supports several languages, referred to as kernels, including SQL, PowerShell, Python, and more.\n",
                "\n",
                "## Connect to the Azure Database\n",
                "\n",
                "The following is all achieved in the Azure Data Studio app, not in VS Code.\n",
                "\n",
                "Open the Connections submenu. In the Azure submenu, make sure that your personal account is connected. Then in Servers, click the New Connection button. Click on the Browse tab, then refresh your personal list of databases and servers. Connect to the appropriate SERVER, then after putting in your credentials, select the appropriate database to connect to.\n",
                "\n",
                "At the top of the window next to \"Attach to,\" select **Select Connection** \\> **Change Connection**. Find and select the database you just created a connection to."
            ]
        },
        {
            "cell_type": "markdown",
            "metadata": {
                "azdata_cell_guid": "f348fdae-e69a-4271-907d-e6b4e0619151"
            },
            "source": [
                "## Manually Create Database Schema - This is not the way to go\n",
                "\n",
                "The first step in configuring the database is to create tables that data will be added to. The following code snippet will create a Users table and a Jokes table, but you don't need to do this... there is a much easier way."
            ]
        },
        {
            "cell_type": "code",
            "execution_count": 1,
            "metadata": {
                "azdata_cell_guid": "c14329fd-fee4-4014-a77d-ed5b59785685"
            },
            "outputs": [
                {
                    "ename": "",
                    "evalue": "Execution failed due to an unexpected error: \r\n\tCannot connect to the database due to invalid OwnerUri (Parameter 'OwnerUri')",
                    "output_type": "error",
                    "traceback": []
                },
                {
                    "data": {
                        "text/html": [
                            "Total execution time: 00:00:00"
                        ]
                    },
                    "metadata": {},
                    "output_type": "display_data"
                }
            ],
            "source": [
                "-- Create Users table\n",
                "\n",
                "/*\n",
                "CREATE TABLE [dbo].[Users]\n",
                "(\n",
                "\t[Id] [int] NOT NULL,\n",
                "\t[Name] [varchar](100) NULL,\n",
                ")\n",
                "GO\n",
                "ALTER TABLE [dbo].[Users] ADD PRIMARY KEY CLUSTERED \n",
                "(\n",
                "\t[Id] ASC\n",
                ")\n",
                "GO\n",
                "\n",
                "\n",
                "-- Create Jokes table, which is linked by a foreign key to the Users table\n",
                "\n",
                "CREATE TABLE [dbo].[Jokes]\n",
                "(\n",
                "\t[Id] [int] NOT NULL,\n",
                "\t[UserId] [int] NOT NULL,\n",
                "\t[SetUp] [text] ,\n",
                "\t[Payoff] [text] ,\n",
                "\t[Created] [datetime2](7) GENERATED ALWAYS AS ROW START NOT NULL,\n",
                "\t[SysEndTime] [datetime2](7) GENERATED ALWAYS AS ROW END NOT NULL,\n",
                "\tPERIOD FOR SYSTEM_TIME ([Created], [SysEndTime])\n",
                ")\n",
                "GO\n",
                "\n",
                "ALTER TABLE [dbo].[Jokes] ADD PRIMARY KEY CLUSTERED\n",
                "(\n",
                "\t[Id] ASC\n",
                ")\n",
                "GO\n",
                "\n",
                "ALTER TABLE [dbo].[Jokes]\n",
                "ADD CONSTRAINT [FK__Jokes__User]\n",
                "FOREIGN KEY ([UserId]) REFERENCES [dbo].[Users] ([Id])\n",
                "GO\n",
                "*/"
            ]
        },
        {
            "cell_type": "markdown",
            "metadata": {
                "azdata_cell_guid": "bca17886-bcfa-4eaa-87b1-94e94e801ce7"
            },
            "source": [
                "## Import Starting Data\n",
                "\n",
                "When creating a database from scratch, use dummy data from a CSV file as a way to automatically create the tables for you. In Azure Data Studio, be sure to download the SQL Server Import extension. Once that's installed, you can go to the Connections menu, then right-click on the server you want to add data to, then click Import wizard.\n",
                "\n",
                "In this project, use the Users.csv and Jokes.csv files found in the .github/database folder.\n",
                "\n",
                "In each import, make sure to check that the Id column is the Primary Key for the newly created tables. After they are both done, run the following snippet to make sure that the tables are related by foreign key."
            ]
        },
        {
            "cell_type": "code",
            "execution_count": 4,
            "metadata": {
                "azdata_cell_guid": "aea81643-4d8a-44b2-a915-8d797f036be5"
            },
            "outputs": [
                {
                    "data": {
                        "text/html": [
                            "Commands completed successfully."
                        ]
                    },
                    "metadata": {},
                    "output_type": "display_data"
                },
                {
                    "data": {
                        "text/html": [
                            "Total execution time: 00:00:00.042"
                        ]
                    },
                    "metadata": {},
                    "output_type": "display_data"
                }
            ],
            "source": [
                "ALTER TABLE [dbo].[Jokes]\n",
                "ADD CONSTRAINT [FK__Jokes__User]\n",
                "FOREIGN KEY ([UserId]) REFERENCES [dbo].[Users] ([Id])\n",
                "GO"
            ]
        },
        {
            "cell_type": "markdown",
            "metadata": {
                "azdata_cell_guid": "7658b21b-c9a0-4ffd-a2dc-7af3d0f87842"
            },
            "source": [
                "## Creating a DACPAC for GitHub\n",
                "\n",
                "GitHub will also need a way to pre-load the database every time it starts. Make sure that the SQL Server Dacpac extension is loaded in the Azure Data Studio. Once installed, go to the Connections menu, then right-click on the database you want to take a snapshot of. Right-click and select \"Data-tier Application Wizard.\" Select the second choice, \"Extract a data-tier application...\" This has already been done in this project and the Dacpac file has been saved in .github/database/dacpac."
            ]
        },
        {
            "cell_type": "markdown",
            "metadata": {
                "azdata_cell_guid": "102d8657-f5ab-4921-809d-d77fc9b41ad2"
            },
            "source": [
                "## Part 2: Create necessary tables\n",
                "\n",
                "### Select a route to monitor\n",
                "\n",
                "Now that you've added the route information, you can select the route to be a \"Monitored Route\". This will come in handy if you later choose to monitor multiple routes. For now, you will just add the \"Education Hill - Crossroads - Eastgate\" route."
            ]
        },
        {
            "cell_type": "code",
            "execution_count": 7,
            "metadata": {
                "azdata_cell_guid": "b8d596bf-0540-49fa-b206-ce52397c0459"
            },
            "outputs": [
                {
                    "data": {
                        "text/html": [
                            "Commands completed successfully."
                        ]
                    },
                    "metadata": {},
                    "output_type": "display_data"
                },
                {
                    "data": {
                        "text/html": [
                            "Commands completed successfully."
                        ]
                    },
                    "metadata": {},
                    "output_type": "display_data"
                },
                {
                    "data": {
                        "text/html": [
                            "Commands completed successfully."
                        ]
                    },
                    "metadata": {},
                    "output_type": "display_data"
                },
                {
                    "data": {
                        "text/html": [
                            "Commands completed successfully."
                        ]
                    },
                    "metadata": {},
                    "output_type": "display_data"
                },
                {
                    "data": {
                        "text/html": [
                            "Commands completed successfully."
                        ]
                    },
                    "metadata": {},
                    "output_type": "display_data"
                },
                {
                    "data": {
                        "text/html": [
                            "Commands completed successfully."
                        ]
                    },
                    "metadata": {},
                    "output_type": "display_data"
                },
                {
                    "data": {
                        "text/html": [
                            "(1 row affected)"
                        ]
                    },
                    "metadata": {},
                    "output_type": "display_data"
                },
                {
                    "data": {
                        "text/html": [
                            "Total execution time: 00:00:00.279"
                        ]
                    },
                    "metadata": {},
                    "output_type": "display_data"
                }
            ],
            "source": [
                "-- Create MonitoredRoutes table\n",
                "CREATE TABLE [dbo].[MonitoredRoutes]\n",
                "(\n",
                "\t[RouteId] [int] NOT NULL\n",
                ")\n",
                "GO\n",
                "ALTER TABLE [dbo].[MonitoredRoutes] ADD PRIMARY KEY CLUSTERED \n",
                "(\n",
                "\t[RouteId] ASC\n",
                ")\n",
                "GO\n",
                "ALTER TABLE [dbo].[MonitoredRoutes] \n",
                "ADD CONSTRAINT [FK__MonitoredRoutes__Router] \n",
                "FOREIGN KEY ([RouteId]) REFERENCES [dbo].[Routes] ([Id])\n",
                "GO\n",
                "\n",
                "-- Monitor the \"Education Hill - Crossroads - Eastgate\" route\n",
                "INSERT INTO dbo.[MonitoredRoutes] (RouteId) VALUES (100113);"
            ]
        },
        {
            "cell_type": "markdown",
            "metadata": {
                "azdata_cell_guid": "a53ad031-a7c3-40a9-bf5b-695a148dbea9"
            },
            "source": [
                "### Select a GeoFence to monitor\n",
                "\n",
                "In addition to monitoring specific bus routes, you will want to monitor certain GeoFences so you can ultimately get notified when your bus enters or exits where you are (i.e. the GeoFence). For now, you will add a small GeoFence that represents the area near the \"Crossroads\" bus stop."
            ]
        },
        {
            "cell_type": "code",
            "execution_count": 8,
            "metadata": {
                "azdata_cell_guid": "1cc9823a-4b83-4e91-a36f-8b503abf0347"
            },
            "outputs": [
                {
                    "data": {
                        "text/html": [
                            "Commands completed successfully."
                        ]
                    },
                    "metadata": {},
                    "output_type": "display_data"
                },
                {
                    "data": {
                        "text/html": [
                            "(1 row affected)"
                        ]
                    },
                    "metadata": {},
                    "output_type": "display_data"
                },
                {
                    "data": {
                        "text/html": [
                            "Commands completed successfully."
                        ]
                    },
                    "metadata": {},
                    "output_type": "display_data"
                },
                {
                    "data": {
                        "text/html": [
                            "Commands completed successfully."
                        ]
                    },
                    "metadata": {},
                    "output_type": "display_data"
                },
                {
                    "data": {
                        "text/html": [
                            "Commands completed successfully."
                        ]
                    },
                    "metadata": {},
                    "output_type": "display_data"
                },
                {
                    "data": {
                        "text/html": [
                            "Commands completed successfully."
                        ]
                    },
                    "metadata": {},
                    "output_type": "display_data"
                },
                {
                    "data": {
                        "text/html": [
                            "Commands completed successfully."
                        ]
                    },
                    "metadata": {},
                    "output_type": "display_data"
                },
                {
                    "data": {
                        "text/html": [
                            "Commands completed successfully."
                        ]
                    },
                    "metadata": {},
                    "output_type": "display_data"
                },
                {
                    "data": {
                        "text/html": [
                            "Commands completed successfully."
                        ]
                    },
                    "metadata": {},
                    "output_type": "display_data"
                },
                {
                    "data": {
                        "text/html": [
                            "(1 row affected)"
                        ]
                    },
                    "metadata": {},
                    "output_type": "display_data"
                },
                {
                    "data": {
                        "text/html": [
                            "Total execution time: 00:00:01.307"
                        ]
                    },
                    "metadata": {},
                    "output_type": "display_data"
                },
                {
                    "data": {
                        "application/vnd.dataresource+json": {
                            "data": [
                                {
                                    "0": "1"
                                }
                            ],
                            "schema": {
                                "fields": [
                                    {
                                        "name": "(No column name)"
                                    }
                                ]
                            }
                        },
                        "text/html": [
                            "<table><tr><th>(No column name)</th></tr><tr><td>1</td></tr></table>"
                        ]
                    },
                    "execution_count": 8,
                    "metadata": {},
                    "output_type": "execute_result"
                }
            ],
            "source": [
                "-- Create GeoFences table\n",
                "CREATE SEQUENCE [dbo].[global]\n",
                "    AS INT\n",
                "    START WITH 1\n",
                "    INCREMENT BY 1\n",
                "GO\n",
                "CREATE TABLE [dbo].[GeoFences](\n",
                "\t[Id] [int] NOT NULL,\n",
                "\t[Name] [nvarchar](100) NOT NULL,\n",
                "\t[GeoFence] [geography] NOT NULL\n",
                ") \n",
                "GO\n",
                "ALTER TABLE [dbo].[GeoFences] ADD PRIMARY KEY CLUSTERED \n",
                "(\n",
                "\t[Id] ASC\n",
                ")\n",
                "GO\n",
                "ALTER TABLE [dbo].[GeoFences] ADD DEFAULT (NEXT VALUE FOR [dbo].[global]) FOR [Id]\n",
                "GO\n",
                "CREATE SPATIAL INDEX [ixsp] ON [dbo].[GeoFences]\n",
                "(\n",
                "\t[GeoFence]\n",
                ") USING GEOGRAPHY_AUTO_GRID \n",
                "GO\n",
                "\n",
                "-- Create a GeoFence\n",
                "INSERT INTO dbo.[GeoFences] \n",
                "\t([Name], [GeoFence]) \n",
                "VALUES\n",
                "\t('Crossroads', 0xE6100000010407000000B4A78EA822CF4740E8D7539530895EC03837D51CEACE4740E80BFBE630895EC0ECD7DF53EACE4740E81B2C50F0885EC020389F0D03CF4740E99BD2A1F0885EC00CB8BEB203CF4740E9DB04FC23895EC068C132B920CF4740E9DB04FC23895EC0B4A78EA822CF4740E8D7539530895EC001000000020000000001000000FFFFFFFF0000000003);\n",
                "GO\n"
            ]
        },
        {
            "cell_type": "markdown",
            "metadata": {
                "azdata_cell_guid": "46ac87ea-ab53-4c87-9b41-57a3b96924a0"
            },
            "source": [
                "### Create table to track activity in the GeoFence\n",
                "\n",
                "Next, create a system-versioned table to keep track of what activity is currently happening within the GeoFence. This means tracking buses entering, exiting, and staying within a given GeoFence. Another table within that table will serve as a histroical log for all activity."
            ]
        },
        {
            "cell_type": "code",
            "execution_count": 9,
            "metadata": {
                "azdata_cell_guid": "3e3da57b-2132-4788-b46c-20374d080b2f"
            },
            "outputs": [
                {
                    "data": {
                        "text/html": [
                            "Commands completed successfully."
                        ]
                    },
                    "metadata": {},
                    "output_type": "display_data"
                },
                {
                    "data": {
                        "text/html": [
                            "Commands completed successfully."
                        ]
                    },
                    "metadata": {},
                    "output_type": "display_data"
                },
                {
                    "data": {
                        "text/html": [
                            "Commands completed successfully."
                        ]
                    },
                    "metadata": {},
                    "output_type": "display_data"
                },
                {
                    "data": {
                        "text/html": [
                            "Total execution time: 00:00:00.126"
                        ]
                    },
                    "metadata": {},
                    "output_type": "display_data"
                }
            ],
            "source": [
                "CREATE TABLE [dbo].[GeoFencesActive] \n",
                "(\n",
                "\t[Id] [int] IDENTITY(1,1) NOT NULL PRIMARY KEY CLUSTERED,\n",
                "\t[VehicleId] [int] NOT NULL,\n",
                "\t[DirectionId] [int] NOT NULL,\n",
                "\t[GeoFenceId] [int] NOT NULL,\n",
                "\t[SysStartTime] [datetime2](7) GENERATED ALWAYS AS ROW START NOT NULL,\n",
                "\t[SysEndTime] [datetime2](7) GENERATED ALWAYS AS ROW END NOT NULL,\n",
                "\tPERIOD FOR SYSTEM_TIME ([SysStartTime], [SysEndTime])\n",
                ")\n",
                "WITH ( SYSTEM_VERSIONING = ON ( HISTORY_TABLE = [dbo].[GeoFencesActiveHistory] ) )\n",
                "GO"
            ]
        },
        {
            "cell_type": "markdown",
            "metadata": {
                "azdata_cell_guid": "c8d2f9b4-af0e-48c2-a594-e21bb7e297a7"
            },
            "source": [
                "### Create a table to store real-time bus data\n",
                "\n",
                "You'll need one last table to store the real-time bus data as it comes in."
            ]
        },
        {
            "cell_type": "code",
            "execution_count": 10,
            "metadata": {
                "azdata_cell_guid": "59797569-2711-4675-ab8a-532e0e2a7c22"
            },
            "outputs": [
                {
                    "data": {
                        "text/html": [
                            "Commands completed successfully."
                        ]
                    },
                    "metadata": {},
                    "output_type": "display_data"
                },
                {
                    "data": {
                        "text/html": [
                            "Commands completed successfully."
                        ]
                    },
                    "metadata": {},
                    "output_type": "display_data"
                },
                {
                    "data": {
                        "text/html": [
                            "Commands completed successfully."
                        ]
                    },
                    "metadata": {},
                    "output_type": "display_data"
                },
                {
                    "data": {
                        "text/html": [
                            "Commands completed successfully."
                        ]
                    },
                    "metadata": {},
                    "output_type": "display_data"
                },
                {
                    "data": {
                        "text/html": [
                            "Commands completed successfully."
                        ]
                    },
                    "metadata": {},
                    "output_type": "display_data"
                },
                {
                    "data": {
                        "text/html": [
                            "Commands completed successfully."
                        ]
                    },
                    "metadata": {},
                    "output_type": "display_data"
                },
                {
                    "data": {
                        "text/html": [
                            "Commands completed successfully."
                        ]
                    },
                    "metadata": {},
                    "output_type": "display_data"
                },
                {
                    "data": {
                        "text/html": [
                            "Commands completed successfully."
                        ]
                    },
                    "metadata": {},
                    "output_type": "display_data"
                },
                {
                    "data": {
                        "text/html": [
                            "Total execution time: 00:00:00.327"
                        ]
                    },
                    "metadata": {},
                    "output_type": "display_data"
                }
            ],
            "source": [
                "CREATE TABLE [dbo].[BusData](\n",
                "\t[Id] [int] IDENTITY(1,1) NOT NULL,\n",
                "\t[DirectionId] [int] NOT NULL,\n",
                "\t[RouteId] [int] NOT NULL,\n",
                "\t[VehicleId] [int] NOT NULL,\n",
                "\t[Location] [geography] NOT NULL,\n",
                "\t[TimestampUTC] [datetime2](7) NOT NULL,\n",
                "\t[ReceivedAtUTC] [datetime2](7) NOT NULL\n",
                ")\n",
                "GO\n",
                "ALTER TABLE [dbo].[BusData] ADD DEFAULT (SYSUTCDATETIME()) FOR [ReceivedAtUTC]\n",
                "GO\n",
                "ALTER TABLE [dbo].[BusData] ADD PRIMARY KEY CLUSTERED \n",
                "(\n",
                "\t[Id] ASC\n",
                ") \n",
                "GO\n",
                "CREATE NONCLUSTERED INDEX [ix1] ON [dbo].[BusData]\n",
                "(\n",
                "\t[ReceivedAtUTC] DESC\n",
                ") \n",
                "GO\n",
                "CREATE SPATIAL INDEX [ixsp] ON [dbo].[BusData]\n",
                "(\n",
                "\t[Location]\n",
                ") USING GEOGRAPHY_AUTO_GRID \n",
                "GO"
            ]
        },
        {
            "cell_type": "markdown",
            "metadata": {
                "azdata_cell_guid": "48c43e3d-b0d0-462a-aaab-da6ca728b2de"
            },
            "source": [
                "Confirm you've created the tables with the following."
            ]
        },
        {
            "cell_type": "code",
            "execution_count": 17,
            "metadata": {
                "azdata_cell_guid": "5619e4aa-306c-46e5-9779-699bb29e387a"
            },
            "outputs": [
                {
                    "data": {
                        "text/html": [
                            "(6 rows affected)"
                        ]
                    },
                    "metadata": {},
                    "output_type": "display_data"
                },
                {
                    "data": {
                        "text/html": [
                            "Total execution time: 00:00:00.064"
                        ]
                    },
                    "metadata": {},
                    "output_type": "display_data"
                },
                {
                    "data": {
                        "application/vnd.dataresource+json": {
                            "data": [
                                {
                                    "0": "bus-db",
                                    "1": "dbo",
                                    "2": "Routes",
                                    "3": "BASE TABLE"
                                },
                                {
                                    "0": "bus-db",
                                    "1": "dbo",
                                    "2": "MonitoredRoutes",
                                    "3": "BASE TABLE"
                                },
                                {
                                    "0": "bus-db",
                                    "1": "dbo",
                                    "2": "GeoFences",
                                    "3": "BASE TABLE"
                                },
                                {
                                    "0": "bus-db",
                                    "1": "dbo",
                                    "2": "GeoFencesActive",
                                    "3": "BASE TABLE"
                                },
                                {
                                    "0": "bus-db",
                                    "1": "dbo",
                                    "2": "GeoFencesActiveHistory",
                                    "3": "BASE TABLE"
                                },
                                {
                                    "0": "bus-db",
                                    "1": "dbo",
                                    "2": "BusData",
                                    "3": "BASE TABLE"
                                }
                            ],
                            "schema": {
                                "fields": [
                                    {
                                        "name": "TABLE_CATALOG"
                                    },
                                    {
                                        "name": "TABLE_SCHEMA"
                                    },
                                    {
                                        "name": "TABLE_NAME"
                                    },
                                    {
                                        "name": "TABLE_TYPE"
                                    }
                                ]
                            }
                        },
                        "text/html": [
                            "<table><tr><th>TABLE_CATALOG</th><th>TABLE_SCHEMA</th><th>TABLE_NAME</th><th>TABLE_TYPE</th></tr><tr><td>bus-db</td><td>dbo</td><td>Routes</td><td>BASE TABLE</td></tr><tr><td>bus-db</td><td>dbo</td><td>MonitoredRoutes</td><td>BASE TABLE</td></tr><tr><td>bus-db</td><td>dbo</td><td>GeoFences</td><td>BASE TABLE</td></tr><tr><td>bus-db</td><td>dbo</td><td>GeoFencesActive</td><td>BASE TABLE</td></tr><tr><td>bus-db</td><td>dbo</td><td>GeoFencesActiveHistory</td><td>BASE TABLE</td></tr><tr><td>bus-db</td><td>dbo</td><td>BusData</td><td>BASE TABLE</td></tr></table>"
                        ]
                    },
                    "execution_count": 17,
                    "metadata": {},
                    "output_type": "execute_result"
                }
            ],
            "source": [
                "SELECT * FROM INFORMATION_SCHEMA.TABLES WHERE TABLE_TYPE = 'BASE TABLE' AND TABLE_SCHEMA = 'dbo'"
            ]
        }
    ],
    "metadata": {
        "kernelspec": {
            "display_name": "SQL",
            "language": "sql",
            "name": "SQL"
        },
        "language_info": {
            "name": "sql",
            "version": ""
        }
    },
    "nbformat": 4,
    "nbformat_minor": 2
}
